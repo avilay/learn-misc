{
 "cells": [
  {
   "cell_type": "markdown",
   "metadata": {},
   "source": [
    "# Abstract Factory\n",
    "> Provide an interface for creating families of related or dependent objects without specifying their concrete classes."
   ]
  },
  {
   "cell_type": "markdown",
   "metadata": {},
   "source": [
    "## Problem\n",
    "Lets say I have a family of objects that go together. In the true and tried example, lets say I have GUI widget library for web and QT. Moreover, the way these are instantiated are different for each widget. In the canvas code below, it has to know how to instantiate all types of widgets, even though it will not need to use some of that knowledge anywhere else. E.g., it needs to specify the exact size of the QT button, but it does not need this information anywhere else. How can I decopule the canvas from having to know these things?"
   ]
  },
  {
   "cell_type": "code",
   "execution_count": 5,
   "metadata": {},
   "outputs": [],
   "source": [
    "from abc import ABC, abstractmethod\n",
    "\n",
    "class Button(ABC):\n",
    "    @property\n",
    "    @abstractmethod\n",
    "    def caption(self) -> str:\n",
    "        raise NotImplemented()\n",
    "\n",
    "    @abstractmethod\n",
    "    def render(self) -> None:\n",
    "        raise NotImplemented()\n",
    "\n",
    "class TextBox(ABC):\n",
    "    @property\n",
    "    @abstractmethod\n",
    "    def contents(self) -> str:\n",
    "        raise NotImplemented()\n",
    "\n",
    "    @abstractmethod\n",
    "    def render(self) -> None:\n",
    "        raise NotImplemented()\n",
    "\n",
    "# QT family of widgets\n",
    "class QtButton(Button):\n",
    "    def __init__(self, caption: str, height: int, width: int) -> None:\n",
    "        self._caption = caption\n",
    "        self._height = height\n",
    "        self._width = width\n",
    "\n",
    "    @property\n",
    "    def caption(self) -> str:\n",
    "        return self._caption\n",
    "\n",
    "    def render(self) -> None:\n",
    "        print(f'Rendering a button {self._height} x {self._width}')\n",
    "\n",
    "class QtTextBox(TextBox):\n",
    "    def __init__(self, contents: str, height: int, width: int):\n",
    "        self._contents = contents\n",
    "        self._height = height\n",
    "        self._width = width\n",
    "\n",
    "    @property\n",
    "    def contents(self) -> str:\n",
    "        return self._contents\n",
    "\n",
    "    def render(self) -> None:\n",
    "        print(f'Rendering text box {self._height} x {self._width}')\n",
    "\n",
    "# Web family of widgetes\n",
    "class WebButton(Button):\n",
    "    def __init__(self, caption: str) -> None:\n",
    "        self._caption = caption\n",
    "\n",
    "    @property\n",
    "    def caption(self) -> str:\n",
    "        return self._caption\n",
    "\n",
    "    def render(self) -> None:\n",
    "        print('Rendering a standard web button')\n",
    "\n",
    "\n",
    "class WebTextBox(TextBox):\n",
    "    def __init__(self, numrows: int, contents: str):\n",
    "        self._numrows = numrows\n",
    "        self._contents = contents\n",
    "\n",
    "    @property\n",
    "    def contents(self) -> str:\n",
    "        return self._contents\n",
    "\n",
    "    def render(self) -> None:\n",
    "        print(f'Rendering textbox with {self._numrows} rows')"
   ]
  },
  {
   "cell_type": "code",
   "execution_count": 3,
   "metadata": {},
   "outputs": [
    {
     "name": "stdout",
     "output_type": "stream",
     "text": [
      "Creating up web widgets\n",
      "Rendering a standard web button\n",
      "Rendering textbox with 3 rows\n"
     ]
    }
   ],
   "source": [
    "import random\n",
    "\n",
    "def canvas():\n",
    "    # determine the environment at runtime\n",
    "    env = random.choice([\"web\", \"qt\"])\n",
    "    if env == \"web\":\n",
    "        print(\"Creating up web widgets\")\n",
    "        button = WebButton(caption=\"Submit\")\n",
    "        textbox = WebTextBox(numrows=3, contents=\"Enter your essay here\")\n",
    "    elif env == \"qt\":\n",
    "        print(\"Creating QT widgets\")\n",
    "        button = QtButton(caption=\"Ok\", height=3, width=10)\n",
    "        textbox = QtTextBox(contents=\"Enter your essay here\", height=10, width=20)\n",
    "    # Now do some fancy layout stuff that canvas object usually do\n",
    "    button.render()\n",
    "    textbox.render()\n",
    "\n",
    "canvas()"
   ]
  },
  {
   "cell_type": "markdown",
   "metadata": {},
   "source": [
    "## Solution"
   ]
  },
  {
   "cell_type": "markdown",
   "metadata": {},
   "source": [
    "### OO Solution\n",
    "Abstract the constructor calling in another **factory** class, with each family of objects having their own factory. Further abstract the factory interface out so the canvas can be given the factory interface which it will use to create widgets without knowing or caring what kind of environment it is running in."
   ]
  },
  {
   "cell_type": "code",
   "execution_count": 6,
   "metadata": {},
   "outputs": [],
   "source": [
    "class WidgetFactory(ABC):\n",
    "    @abstractmethod\n",
    "    def create_button(self) -> Button:\n",
    "        pass\n",
    "\n",
    "    @abstractmethod\n",
    "    def create_textbox(self) -> TextBox:\n",
    "        pass\n",
    "\n",
    "class WebWidgetFactory(WidgetFactory):\n",
    "    def create_button(self) -> Button:\n",
    "        return WebButton(caption=\"Submit\")\n",
    "\n",
    "    def create_textbox(self) -> TextBox:\n",
    "        return WebTextBox(numrows=3, contents=\"Enter your essay here\")\n",
    "\n",
    "class QtWidgetFactory(WidgetFactory):\n",
    "    def create_button(self) -> Button:\n",
    "        return QtButton(caption=\"Ok\", height=3, width=10)\n",
    "\n",
    "    def create_textbox(self) -> TextBox:\n",
    "        return QtTextBox(contents=\"Enter your essay here\", height=10, width=20)"
   ]
  },
  {
   "cell_type": "code",
   "execution_count": 8,
   "metadata": {},
   "outputs": [
    {
     "name": "stdout",
     "output_type": "stream",
     "text": [
      "Rendering a standard web button\n",
      "Rendering a standard web button\n"
     ]
    }
   ],
   "source": [
    "import random\n",
    "\n",
    "def canvas(widget_factory: WidgetFactory):\n",
    "    button = widget_factory.create_button()\n",
    "    textbox = widget_factory.create_textbox()\n",
    "    # Now do some fancy layout stuff that canvas object usually do\n",
    "    button.render()\n",
    "    textbox.render()\n",
    "\n",
    "# Bootstrapper\n",
    "env = random.choice([\"web\", \"qt\"])\n",
    "if env == \"web\":\n",
    "    canvas(WebWidgetFactory())\n",
    "elif env == \"qt\":\n",
    "    canvas(QtWidgetFactory())"
   ]
  },
  {
   "cell_type": "markdown",
   "metadata": {},
   "source": [
    "### Pythonic Solution\n",
    "Instead of creating a new factory heirarchy which will pretty much mirror the original object heirarchy, pass the ctor as partial functions to the canvas. If there are too many widgets all the \"factory\" functions can be packaged together in a single `widget_makers` dict."
   ]
  },
  {
   "cell_type": "code",
   "execution_count": 9,
   "metadata": {},
   "outputs": [
    {
     "name": "stdout",
     "output_type": "stream",
     "text": [
      "Rendering a standard web button\n",
      "Rendering textbox with 3 rows\n"
     ]
    }
   ],
   "source": [
    "import functools\n",
    "\n",
    "def canvas(button_maker, textbox_maker):\n",
    "    button = button_maker()\n",
    "    textbox = textbox_maker()\n",
    "    # Now do some fancy layout stuff that canvas object usually do\n",
    "    button.render()\n",
    "    textbox.render()\n",
    "\n",
    "# Bootstrapper\n",
    "env = random.choice([\"web\", \"qt\"])\n",
    "if env == \"web\":\n",
    "    button_maker = functools.partial(WebButton, caption=\"Submit\")\n",
    "    textbox_maker = functools.partial(WebTextBox, numrows=3, contents=\"Enter essay here\")\n",
    "elif env == \"qt\":\n",
    "    button_maker = functools.partial(QtButton, caption=\"Ok\", height=3, width=10)\n",
    "    textbox_maker = functools.partial(QtTextBox, contents=\"Enter your essay here\", height=10, width=20)\n",
    "canvas(button_maker, textbox_maker)"
   ]
  }
 ],
 "metadata": {
  "kernelspec": {
   "display_name": "Python 3",
   "language": "python",
   "name": "python3"
  },
  "language_info": {
   "codemirror_mode": {
    "name": "ipython",
    "version": 3
   },
   "file_extension": ".py",
   "mimetype": "text/x-python",
   "name": "python",
   "nbconvert_exporter": "python",
   "pygments_lexer": "ipython3",
   "version": "3.8.8"
  }
 },
 "nbformat": 4,
 "nbformat_minor": 4
}
