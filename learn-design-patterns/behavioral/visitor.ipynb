{
 "cells": [
  {
   "cell_type": "markdown",
   "metadata": {},
   "source": [
    "# Visitor\n",
    "> Represent an operation to be performed on the elements of an object structure. Visitor lets you define a new operation without changing the classes of the elements on which it operates."
   ]
  },
  {
   "cell_type": "markdown",
   "metadata": {},
   "source": [
    "## Problem\n",
    "Lets say I have two types of employess - `Contractor`s and `FTE`s. "
   ]
  },
  {
   "cell_type": "code",
   "execution_count": 19,
   "metadata": {},
   "outputs": [],
   "source": [
    "# These classes are in a 3rd party library.\n",
    "from abc import ABC\n",
    "\n",
    "class Employee(ABC):\n",
    "    pass\n",
    "\n",
    "class Contractor(Employee):\n",
    "    def __init__(self, name, wage, hours_worked):\n",
    "        self.name = name\n",
    "        self.wage = wage\n",
    "        self.hours_worked = hours_worked\n",
    "\n",
    "\n",
    "class FullTime(Employee):\n",
    "    def __init__(self, name, salary):\n",
    "        self.name = name\n",
    "        self.salary = salary"
   ]
  },
  {
   "cell_type": "code",
   "execution_count": 8,
   "metadata": {},
   "outputs": [],
   "source": [
    "# I use these classes all over my app.\n",
    "employees = [\n",
    "    Contractor(\"Harry Potter\", 10.50, 100), \n",
    "    Contractor(\"Draco Malfoy\", 17.99, 10), \n",
    "    FullTime(\"Hermione Granger\", 100_000)\n",
    "]"
   ]
  },
  {
   "cell_type": "markdown",
   "metadata": {},
   "source": [
    "Now one day I needed to calculate the quarterly pay for all my employees. My typical approach would be to just write a simple module that does just that."
   ]
  },
  {
   "cell_type": "code",
   "execution_count": 6,
   "metadata": {},
   "outputs": [
    {
     "name": "stdout",
     "output_type": "stream",
     "text": [
      "Harry Potter earned $1.0e+03 this quarter.\n",
      "Draco Malfoy earned $1.8e+02 this quarter.\n",
      "Hermione Granger earned $2.5e+04 this quarter.\n"
     ]
    }
   ],
   "source": [
    "def qtr_pay(employees):\n",
    "    for employee in employees:\n",
    "        if isinstance(employee, Contractor):\n",
    "            pay = employee.wage * employee.hours_worked\n",
    "        elif isinstance(employee, FullTime):\n",
    "            pay = employee.salary / 4\n",
    "        print(f\"{employee.name} earned ${pay:.2f} this quarter.\")\n",
    "\n",
    "qtr_pay(employees)"
   ]
  },
  {
   "cell_type": "markdown",
   "metadata": {},
   "source": [
    "However, I might think, \"hmm...this new functionality to calculate quarterly pay is pretty useful. There might be other places this can be used.\" In this case I might just decide to add a new method to both my classes and their interface be done with that. "
   ]
  },
  {
   "cell_type": "code",
   "execution_count": 45,
   "metadata": {},
   "outputs": [],
   "source": [
    "class Employee(ABC):\n",
    "    @abstractmethod\n",
    "    def calc_qtr_pay(self):\n",
    "        pass\n",
    "    \n",
    "class Contractor(Employee):\n",
    "    def __init__(self, name, wage, hours_worked):\n",
    "        self.name = name\n",
    "        self.wage = wage\n",
    "        self.hours_worked = hours_worked\n",
    "    \n",
    "    def calc_qtr_pay(self):\n",
    "        return self.wage * self.hours_worked\n",
    "\n",
    "\n",
    "class FullTime(Employee):\n",
    "    def __init__(self, name, salary):\n",
    "        self.name = name\n",
    "        self.salary = salary\n",
    "        \n",
    "    def calc_qtr_pay(self):\n",
    "        return self.salary / 4\n",
    "    "
   ]
  },
  {
   "cell_type": "code",
   "execution_count": 46,
   "metadata": {},
   "outputs": [
    {
     "name": "stdout",
     "output_type": "stream",
     "text": [
      "Harry Potter earned $1050.00 this quarter.\n",
      "Draco Malfoy earned $179.90 this quarter.\n",
      "Hermione Granger earned $25000.00 this quarter.\n"
     ]
    }
   ],
   "source": [
    "employees = [\n",
    "    Contractor(\"Harry Potter\", 10.50, 100), \n",
    "    Contractor(\"Draco Malfoy\", 17.99, 10), \n",
    "    FullTime(\"Hermione Granger\", 100_000)\n",
    "]\n",
    "\n",
    "for employee in employees:\n",
    "    pay = employee.calc_qtr_pay()\n",
    "    print(f\"{employee.name} earned ${pay:.2f} this quarter.\")"
   ]
  },
  {
   "cell_type": "markdown",
   "metadata": {},
   "source": [
    "At least I got rid of the nasty `isinstace` call from my report generator. But this is still too brittle because I have to change multiple modules, one for each subclass. How can I avoid that?"
   ]
  },
  {
   "cell_type": "markdown",
   "metadata": {},
   "source": [
    "## Solution"
   ]
  },
  {
   "cell_type": "markdown",
   "metadata": {},
   "source": [
    "### First Attempt\n",
    "Let me think of this new functionality not as a method, but as a class in itself."
   ]
  },
  {
   "cell_type": "code",
   "execution_count": 47,
   "metadata": {},
   "outputs": [],
   "source": [
    "class QtrPay:\n",
    "    def _calc_contractor(self, employee):\n",
    "        return employee.wage * employee.hours_worked\n",
    "    \n",
    "    def _calc_fte(self, employee):\n",
    "        return employee.salary / 4\n",
    "    \n",
    "    def calc(self, employee):\n",
    "        if isinstance(employee, Contractor):\n",
    "            return self._calc_contractor(employee)\n",
    "        elif isinstance(employee, FullTime):\n",
    "            return self._calc_fte(employee)"
   ]
  },
  {
   "cell_type": "markdown",
   "metadata": {},
   "source": [
    "And lets re-implement the employee heirarchy the way it was so Jupyter is not confused."
   ]
  },
  {
   "cell_type": "code",
   "execution_count": 48,
   "metadata": {},
   "outputs": [],
   "source": [
    "class Employee(ABC):\n",
    "    pass\n",
    "\n",
    "class Contractor(Employee):\n",
    "    def __init__(self, name, wage, hours_worked):\n",
    "        self.name = name\n",
    "        self.wage = wage\n",
    "        self.hours_worked = hours_worked\n",
    "\n",
    "\n",
    "class FullTime(Employee):\n",
    "    def __init__(self, name, salary):\n",
    "        self.name = name\n",
    "        self.salary = salary"
   ]
  },
  {
   "cell_type": "code",
   "execution_count": 26,
   "metadata": {},
   "outputs": [
    {
     "name": "stdout",
     "output_type": "stream",
     "text": [
      "Harry Potter earned $1050.00 this quarter.\n",
      "Draco Malfoy earned $179.90 this quarter.\n",
      "Hermione Granger earned $25000.00 this quarter.\n"
     ]
    }
   ],
   "source": [
    "employees = [\n",
    "    Contractor(\"Harry Potter\", 10.50, 100), \n",
    "    Contractor(\"Draco Malfoy\", 17.99, 10), \n",
    "    FullTime(\"Hermione Granger\", 100_000)\n",
    "]\n",
    "\n",
    "qtr_pay = QtrPay()\n",
    "for employee in employees:\n",
    "    pay = qtr_pay.calc(employee)\n",
    "    print(f\"{employee.name} earned ${pay:.2f} this quarter.\")"
   ]
  },
  {
   "cell_type": "markdown",
   "metadata": {},
   "source": [
    "### Sidebar: Double Distpatch\n",
    "In most compiled languages there would be no need for the `isinstance` operator in the `QtrPay` class. There would be overloaded methods like so -\n",
    "```C#\n",
    "class QtrPay {\n",
    "    double Calc(Contractor emp) {\n",
    "        return emp.Wage * emp.HoursWorked;\n",
    "    }\n",
    "    \n",
    "    double Calc(FullTime emp) {\n",
    "        return emp.Salar / 4;\n",
    "    }\n",
    "    \n",
    "    double Calc(Employee emp) {\n",
    "        return -1;\n",
    "    }\n",
    "}\n",
    "\n",
    "static void Main(string[] args) {\n",
    "    Employee hp = Contractor(\"Harry Potter\", ...);\n",
    "    Employee dm = Contractor(\"Draco Malfoy\", ...);\n",
    "    Employe hg = FullTime(\"Hermione Granger\", ...);\n",
    "    List<Employee> employees = new List<Employee> { hp, dm, hg };\n",
    "    \n",
    "    QtrPay qp = new QtrPay();\n",
    "    foreach (Employee employee in employees) {\n",
    "        double pay = qp.Calc(employee);\n",
    "    }\n",
    "}\n",
    "```\n",
    "However, this will not work as expected, `qp.Calc(employee)` will end up calling `QtrPay::Calc(Employee emp)` method every time instead of the expected polymorphic behavior. This is because the compiler opts for static dispatching instead of dynamic dispatching via vtables. To get around this we can use the concept of double dispatching, where instead of calling a method on `qp` object and passing it an instance of `Employee` we call a method on the `employee` object passing it an instance of `QtrPay`.\n",
    "\n",
    "```C#\n",
    "interface Employee {\n",
    "    public double Accept(QtrPay qp);\n",
    "}\n",
    "\n",
    "class Contractor : Employee {\n",
    "    // rest of the implementation remains the same\n",
    "    public double Accept(QtrPay qp) {\n",
    "        return qp.Calc(this);\n",
    "    }\n",
    "}\n",
    "\n",
    "class FullTime : Employee {\n",
    "    // rest of the impl remains\n",
    "    public double Accept(QtrPay qp) {\n",
    "        return qp.Calc(this);\n",
    "    }\n",
    "}\n",
    "\n",
    "static void Main(string[] args) {\n",
    "    Employee hp = Contractor(\"Harry Potter\", ...);\n",
    "    Employee dm = Contractor(\"Draco Malfoy\", ...);\n",
    "    Employe hg = FullTime(\"Hermione Granger\", ...);\n",
    "    List<Employee> employees = new List<Employee> { hp, dm, hg };\n",
    "    \n",
    "    QtrPay qp = new QtrPay();\n",
    "    foreach (Employee employee in employees) {\n",
    "        double pay = employee.Accept(qp);\n",
    "    }\n",
    "}\n",
    "```\n",
    "\n",
    "Now, the compiler can still use dynamic dispatching and call the `Accept` method on the concrete subclass which in turn calls the overloaded `Calc` method with the full subclass so again the compiler can do dynamic dispatching, eventually resulting in the right overloaded method being called."
   ]
  },
  {
   "cell_type": "markdown",
   "metadata": {},
   "source": [
    "### Second Attempt\n",
    "Ok so far so good. But I am back to using the nasty `isinstance` call. How to avoid that? If I can change the Employee class heirarchy and add just one more method there called `accept` I can get rid of `isisntace` in QtrPay."
   ]
  },
  {
   "cell_type": "code",
   "execution_count": 35,
   "metadata": {},
   "outputs": [],
   "source": [
    "class Employee(ABC):\n",
    "    @abstractmethod\n",
    "    def accept(self, visitor: QtrPay):\n",
    "        pass\n",
    "    \n",
    "class Contractor(Employee):\n",
    "    def __init__(self, name, wage, hours_worked):\n",
    "        self.name = name\n",
    "        self.wage = wage\n",
    "        self.hours_worked = hours_worked\n",
    "        \n",
    "    def accept(self, visitor: QtrPay):\n",
    "        return visitor.calc_contractor(self)\n",
    "        \n",
    "class FullTime(Employee):\n",
    "    def __init__(self, name, salary):\n",
    "        self.name = name\n",
    "        self.salary = salary\n",
    "        \n",
    "    def accept(self, visitor: QtrPay):\n",
    "        return visitor.calc_fulltime(self)\n",
    "        \n",
    "class QtrPay:\n",
    "    def calc_contractor(self, emp):\n",
    "        return emp.wage * emp.hours_worked\n",
    "    \n",
    "    def calc_fulltime(self, emp):\n",
    "        return emp.salary / 4"
   ]
  },
  {
   "cell_type": "code",
   "execution_count": 38,
   "metadata": {},
   "outputs": [
    {
     "name": "stdout",
     "output_type": "stream",
     "text": [
      "Harry Potter earned $1050.00 this quarter.\n",
      "Draco Malfoy earned $179.90 this quarter.\n",
      "Hermione Granger earned $25000.00 this quarter.\n"
     ]
    }
   ],
   "source": [
    "employees = [\n",
    "    Contractor(\"Harry Potter\", 10.50, 100), \n",
    "    Contractor(\"Draco Malfoy\", 17.99, 10), \n",
    "    FullTime(\"Hermione Granger\", 100_000)\n",
    "]\n",
    "\n",
    "qtr_pay = QtrPay()\n",
    "for employee in employees:\n",
    "    pay = employee.accept(qtr_pay)\n",
    "    print(f\"{employee.name} earned ${pay:.2f} this quarter.\")"
   ]
  },
  {
   "cell_type": "markdown",
   "metadata": {},
   "source": [
    "### Third Attempt\n",
    "Now what if I want to calculate yearly pay? Well I can simply create a different class for this new functionality called `YearlyPay` and as long as it confirms to the same interface as `QtrPay`, i.e., have `calc_contractor` and `calc_fulltime` methods on it, I should be fine. And for that it is a good idea to explicitly define a common interface for these `PayCalculators`. Typically this is called the `Visitor` interface."
   ]
  },
  {
   "cell_type": "code",
   "execution_count": 40,
   "metadata": {},
   "outputs": [],
   "source": [
    "from typing import Any\n",
    "\n",
    "class PayCalculator(ABC):\n",
    "    @abstractmethod\n",
    "    def calc_contractor(self, emp: Employee) -> Any:\n",
    "        pass\n",
    "    \n",
    "    @abstractmethod\n",
    "    def calc_fulltime(self, emp: Employee) -> Any:\n",
    "        pass\n",
    "    \n",
    "class Employee(ABC):\n",
    "    @abstractmethod\n",
    "    def accept(self, visitor: PayCalculator) -> Any:\n",
    "        pass"
   ]
  },
  {
   "cell_type": "markdown",
   "metadata": {},
   "source": [
    "The rest of the class definitions remain the same. Here they are reproduced for clarity -"
   ]
  },
  {
   "cell_type": "code",
   "execution_count": 41,
   "metadata": {},
   "outputs": [],
   "source": [
    "class Contractor(Employee):\n",
    "    def __init__(self, name, wage, hours_worked):\n",
    "        self.name = name\n",
    "        self.wage = wage\n",
    "        self.hours_worked = hours_worked\n",
    "        \n",
    "    def accept(self, visitor: QtrPay):\n",
    "        return visitor.calc_contractor(self)\n",
    "        \n",
    "class FullTime(Employee):\n",
    "    def __init__(self, name, salary):\n",
    "        self.name = name\n",
    "        self.salary = salary\n",
    "        \n",
    "    def accept(self, visitor: QtrPay):\n",
    "        return visitor.calc_fulltime(self)"
   ]
  },
  {
   "cell_type": "code",
   "execution_count": 42,
   "metadata": {},
   "outputs": [],
   "source": [
    "class QtrPay:\n",
    "    def calc_contractor(self, emp):\n",
    "        return emp.wage * emp.hours_worked\n",
    "    \n",
    "    def calc_fulltime(self, emp):\n",
    "        return emp.salary / 4\n",
    "    \n",
    "class YearlyPay:\n",
    "    def calc_contractor(self, emp):\n",
    "        return emp.wage * emp.hours_worked\n",
    "    \n",
    "    def calc_fulltime(self, emp):\n",
    "        return emp.salary"
   ]
  },
  {
   "cell_type": "code",
   "execution_count": 44,
   "metadata": {},
   "outputs": [
    {
     "name": "stdout",
     "output_type": "stream",
     "text": [
      "Harry Potter earned $1050.00 this quarter.\n",
      "Draco Malfoy earned $179.90 this quarter.\n",
      "Hermione Granger earned $25000.00 this quarter.\n",
      "Harry Potter earned $1050.00 this year.\n",
      "Draco Malfoy earned $179.90 this year.\n",
      "Hermione Granger earned $100000.00 this year.\n"
     ]
    }
   ],
   "source": [
    "employees = [\n",
    "    Contractor(\"Harry Potter\", 10.50, 100), \n",
    "    Contractor(\"Draco Malfoy\", 17.99, 10), \n",
    "    FullTime(\"Hermione Granger\", 100_000)\n",
    "]\n",
    "\n",
    "qtr_pay = QtrPay()\n",
    "for employee in employees:\n",
    "    pay = employee.accept(qtr_pay)\n",
    "    print(f\"{employee.name} earned ${pay:.2f} this quarter.\")\n",
    "    \n",
    "yr_pay = YearlyPay()\n",
    "for employee in employees:\n",
    "    pay = employee.accept(yr_pay)\n",
    "    print(f\"{employee.name} earned ${pay:.2f} this year.\")"
   ]
  },
  {
   "cell_type": "markdown",
   "metadata": {},
   "source": [
    "I personally prefer the solution described in the First Attempt. Yes, it has the bad `isinstance` function, but seems much more easy to reason about, i.e., it is self contained enough that anybody looking at that code can figure out what is happening without having to trace the code path through mulitple modules."
   ]
  }
 ],
 "metadata": {
  "kernelspec": {
   "display_name": "Python 3",
   "language": "python",
   "name": "python3"
  },
  "language_info": {
   "codemirror_mode": {
    "name": "ipython",
    "version": 3
   },
   "file_extension": ".py",
   "mimetype": "text/x-python",
   "name": "python",
   "nbconvert_exporter": "python",
   "pygments_lexer": "ipython3",
   "version": "3.7.7"
  }
 },
 "nbformat": 4,
 "nbformat_minor": 4
}
