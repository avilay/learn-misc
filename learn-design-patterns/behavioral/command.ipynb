{
 "cells": [
  {
   "cell_type": "markdown",
   "metadata": {},
   "source": [
    "# Command Pattern\n",
    ">Encapsulate a request as an object, thereby letting you parameterize clients with different requests, queue or log requests, and support undo operations.\n",
    "\n",
    "The sender does not know which method to call on the receiver. "
   ]
  },
  {
   "cell_type": "markdown",
   "metadata": {},
   "source": [
    "## Problem\n",
    "In the code below, we have already determined that when `invoker.do()` is called, it will in turn invoke `recvr.action1()`. But what if the action that needs to be taken is not known at coding time? One answer is to code up the logic to determine the action to take based on the input argument (or some other context available to the Invoker at runtime). But what if the logic of which action to call lives somewhere else entirely?"
   ]
  },
  {
   "cell_type": "code",
   "execution_count": 1,
   "metadata": {},
   "outputs": [],
   "source": [
    "class Reciever:\n",
    "    def action1(self):\n",
    "        print(\"Doing action 1\")\n",
    "        \n",
    "    def action2(self):\n",
    "        print(\"Doing action 2\")\n",
    "        \n",
    "        \n",
    "class Invoker:\n",
    "    def __init__(self, recvr):\n",
    "        self.recvr = recvr\n",
    "    \n",
    "    def do(self, arg):\n",
    "        print(f\"Invoking with {arg}\")\n",
    "        self.recvr.action1()"
   ]
  },
  {
   "cell_type": "code",
   "execution_count": 2,
   "metadata": {},
   "outputs": [
    {
     "name": "stdout",
     "output_type": "stream",
     "text": [
      "Invoking with hello\n",
      "Doing action 1\n"
     ]
    }
   ],
   "source": [
    "invoker = Invoker(Reciever())\n",
    "invoker.do(\"hello\")"
   ]
  },
  {
   "cell_type": "markdown",
   "metadata": {},
   "source": [
    "# Solution"
   ]
  },
  {
   "cell_type": "markdown",
   "metadata": {},
   "source": [
    "### OO Solution\n",
    "Create a `Command` interface with a single method `execute`. Various concrete `Command` implementations invoke different action on the `Reciever` object. Then at runtime, the `Invoker` is \"configured\" with the correct `Command` class."
   ]
  },
  {
   "cell_type": "code",
   "execution_count": 3,
   "metadata": {},
   "outputs": [],
   "source": [
    "from abc import ABC, abstractmethod\n",
    "\n",
    "class Reciever:\n",
    "    def action1(self):\n",
    "        print(\"Doing action 1\")\n",
    "        \n",
    "    def action2(self):\n",
    "        print(\"Doing action 2\")\n",
    "        \n",
    "\n",
    "class Command(ABC):\n",
    "    @abstractmethod\n",
    "    def execute(self):\n",
    "        pass\n",
    "    \n",
    "class ActionOne(Command):\n",
    "    def __init__(self, recvr):\n",
    "        self.recvr = recvr\n",
    "        \n",
    "    def execute(self):\n",
    "        self.recvr.action1()\n",
    "        \n",
    "\n",
    "class ActionTwo(Command):\n",
    "    def __init__(self, recvr):\n",
    "        self.recvr = recvr\n",
    "        \n",
    "    def execute(self):\n",
    "        self.recvr.action2()\n",
    "        \n",
    "        \n",
    "class Invoker:\n",
    "    def __init__(self, cmd):\n",
    "        self.cmd = cmd\n",
    "        \n",
    "    def do(self, arg):\n",
    "        print(f\"Invoking with {arg}\")\n",
    "        self.cmd.execute()"
   ]
  },
  {
   "cell_type": "code",
   "execution_count": 4,
   "metadata": {},
   "outputs": [
    {
     "name": "stdout",
     "output_type": "stream",
     "text": [
      "Invoking with hello\n",
      "Doing action 1\n",
      "Invoking with world\n",
      "Doing action 2\n"
     ]
    }
   ],
   "source": [
    "action1 = ActionOne(Reciever())\n",
    "invoker = Invoker(action1)\n",
    "invoker.do(\"hello\")\n",
    "\n",
    "action2 = ActionTwo(Reciever())\n",
    "invoker = Invoker(action2)\n",
    "invoker.do(\"world\")"
   ]
  },
  {
   "cell_type": "markdown",
   "metadata": {},
   "source": [
    "## Pythonic Solution\n",
    "Give a function pointer to the `Invoker` at runtime."
   ]
  },
  {
   "cell_type": "code",
   "execution_count": 5,
   "metadata": {},
   "outputs": [],
   "source": [
    "class Reciever:\n",
    "    def action1(self):\n",
    "        print(\"Doing action 1\")\n",
    "        \n",
    "    def action2(self):\n",
    "        print(\"Doing action 2\")\n",
    "        \n",
    "        \n",
    "class Invoker:\n",
    "    def __init__(self, action):\n",
    "        self.action = action\n",
    "        \n",
    "    def do(self, arg):\n",
    "        print(f\"Invoking with {arg}\")\n",
    "        self.action()"
   ]
  },
  {
   "cell_type": "code",
   "execution_count": 6,
   "metadata": {},
   "outputs": [
    {
     "name": "stdout",
     "output_type": "stream",
     "text": [
      "Invoking with hello\n",
      "Doing action 1\n",
      "Invoking with world\n",
      "Doing action 2\n"
     ]
    }
   ],
   "source": [
    "recvr = Reciever()\n",
    "\n",
    "invoker = Invoker(recvr.action1)\n",
    "invoker.do(\"hello\")\n",
    "\n",
    "invoker = Invoker(recvr.action2)\n",
    "invoker.do(\"world\")"
   ]
  },
  {
   "cell_type": "code",
   "execution_count": null,
   "metadata": {},
   "outputs": [],
   "source": []
  }
 ],
 "metadata": {
  "kernelspec": {
   "display_name": "Python 3",
   "language": "python",
   "name": "python3"
  },
  "language_info": {
   "codemirror_mode": {
    "name": "ipython",
    "version": 3
   },
   "file_extension": ".py",
   "mimetype": "text/x-python",
   "name": "python",
   "nbconvert_exporter": "python",
   "pygments_lexer": "ipython3",
   "version": "3.7.3"
  }
 },
 "nbformat": 4,
 "nbformat_minor": 4
}
