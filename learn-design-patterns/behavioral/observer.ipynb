{
 "cells": [
  {
   "cell_type": "markdown",
   "metadata": {},
   "source": [
    "# Observer\n",
    "> Define a one-to-many dependency between objects tso that when one object changes state, all its dependents are notified and updated automatically."
   ]
  },
  {
   "cell_type": "markdown",
   "metadata": {},
   "source": [
    "## Problem\n",
    "Lets say I am writing an OS module that detects whenever the battery level is below a certain threshold. When that happens it tells the `AppManager` to put unused apps to sleep and tells the screen to dim the brightness."
   ]
  },
  {
   "cell_type": "code",
   "execution_count": 1,
   "metadata": {},
   "outputs": [],
   "source": [
    "class BatteryMonitor:\n",
    "    def __init__(self, screen, app_manager):\n",
    "        self.screen = screen\n",
    "        self.app_manager = app_manager\n",
    "        \n",
    "    def set_strength(self, val):\n",
    "        if val < 10:\n",
    "            print(f\"Battery level is low\")\n",
    "            self.screen.dim(val)\n",
    "            self.app_manager.bg(val)\n",
    "\n",
    "class Screen:\n",
    "    def dim(self, battery_level):\n",
    "        print(f\"Decreasing brightness appropriate to battery {battery_level}\")\n",
    "        \n",
    "class AppManager:\n",
    "    def bg(self, battery_level):\n",
    "        print(f\"Putting unused apps in background for battery {battery_level}\")"
   ]
  },
  {
   "cell_type": "code",
   "execution_count": 2,
   "metadata": {},
   "outputs": [
    {
     "name": "stdout",
     "output_type": "stream",
     "text": [
      "Battery level is low\n",
      "Decreasing brightness appropriate to battery 3\n",
      "Putting unused apps in background for battery 3\n"
     ]
    }
   ],
   "source": [
    "sc = Screen()\n",
    "am = AppManager()\n",
    "bm = BatteryMonitor(sc, am)\n",
    "bm.set_strength(3)"
   ]
  },
  {
   "cell_type": "markdown",
   "metadata": {},
   "source": [
    "But now `BatteryMonitor` is tightly coupled with `Screen` and `AppManager`, i.e., it has to know which methods to call on them. Moreover, if the `Bluetooth` module and the `Wifi` module also want to turn their radios off if the battery level is too low, then I have to change the `BatteryMonitor` class. How can I avoid this tight coupling?"
   ]
  },
  {
   "cell_type": "markdown",
   "metadata": {},
   "source": [
    "## Solution"
   ]
  },
  {
   "cell_type": "code",
   "execution_count": 11,
   "metadata": {},
   "outputs": [],
   "source": [
    "from abc import ABC, abstractmethod\n",
    "\n",
    "class BatteryObserver(ABC):\n",
    "    @abstractmethod\n",
    "    def update(self, battery_level):\n",
    "        pass\n",
    "    \n",
    "class BatteryMonitor:\n",
    "    def __init__(self):\n",
    "        self.observers = []\n",
    "        \n",
    "    def attach(self, obs):\n",
    "        self.observers.append(obs)\n",
    "        \n",
    "    def set_strength(self, val):\n",
    "        for obs in self.observers:\n",
    "            obs.update(val)\n",
    "    \n",
    "class AppManager(BatteryObserver):\n",
    "    def __init__(self, bm: BatteryMonitor):\n",
    "        bm.attach(self)\n",
    "        \n",
    "    def bg(self, battery_level):\n",
    "        print(f\"Putting unused apps in background for battery {battery_level}\")\n",
    "    \n",
    "    def update(self, battery_level):\n",
    "        if battery_level < 15:\n",
    "            self.bg(battery_level)\n",
    "        \n",
    "class Screen(BatteryObserver):\n",
    "    def __init__(self, bm: BatteryMonitor):\n",
    "        bm.attach(self)\n",
    "        \n",
    "    def dim(self, battery_level):\n",
    "        print(f\"Decreasing brightness appropriate to battery {battery_level}\")\n",
    "        \n",
    "    def update(self, battery_level):\n",
    "        if battery_level < 10:\n",
    "            self.dim(battery_level)"
   ]
  },
  {
   "cell_type": "code",
   "execution_count": 12,
   "metadata": {},
   "outputs": [
    {
     "name": "stdout",
     "output_type": "stream",
     "text": [
      "Decreasing brightness appropriate to battery 3\n",
      "Putting unused apps in background for battery 3\n"
     ]
    }
   ],
   "source": [
    "bm = BatteryMonitor()\n",
    "sc = Screen(bm)\n",
    "am = AppManager(bm)\n",
    "bm.set_strength(3)"
   ]
  }
 ],
 "metadata": {
  "kernelspec": {
   "display_name": "Python 3",
   "language": "python",
   "name": "python3"
  },
  "language_info": {
   "codemirror_mode": {
    "name": "ipython",
    "version": 3
   },
   "file_extension": ".py",
   "mimetype": "text/x-python",
   "name": "python",
   "nbconvert_exporter": "python",
   "pygments_lexer": "ipython3",
   "version": "3.7.3"
  }
 },
 "nbformat": 4,
 "nbformat_minor": 2
}
