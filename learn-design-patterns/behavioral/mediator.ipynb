{
 "cells": [
  {
   "cell_type": "markdown",
   "metadata": {},
   "source": [
    "# Mediator\n",
    "> Define an object that encapsulates how a set of objects interact. Mediator promotes loose coupling by keeping objects from referring to each other explicitly, and it lets you vary their interaction independently.\n",
    "\n",
    "Instead of having a bunch of different objects all knowing about each others' types and methods (thereby being tightly coupled), insert a \"mediator\" object which has all this messy knowledge, but all the other objects are now only tightly coupled with this single mediator interface."
   ]
  },
  {
   "cell_type": "markdown",
   "metadata": {},
   "source": [
    "## Problem\n",
    "Objects that are too tightly coupled are difficult to implement, change, test, and reuse. Moreover, the interaction is \"hard coded\" into the way the objects call each other, which makes the interaction flow itself hard to change. An extreme example of two tightly coupled objects are when they have a circular depedency as shown in the code below."
   ]
  },
  {
   "cell_type": "code",
   "execution_count": 4,
   "metadata": {},
   "outputs": [],
   "source": [
    "from typing import Optional\n",
    "\n",
    "class BuddyOne:\n",
    "    def __init__(self):\n",
    "        self._buddy: Optional[\"BuddyTwo\"] = None\n",
    "        \n",
    "    def set_buddy(self, buddy: \"BuddyTwo\"):\n",
    "        self._buddy = buddy\n",
    "        \n",
    "    def action_one(self, arg):\n",
    "        print(f\"BuddyOne::action_one with {arg}\")\n",
    "        self._buddy.react_two(arg)\n",
    "        \n",
    "    def react_one(self, arg):\n",
    "        print(f\"BuddyOne::react_one with {arg}\")\n",
    "        \n",
    "\n",
    "class BuddyTwo:\n",
    "    def __init__(self):\n",
    "        self._buddy: Optional[BuddyOne] = None\n",
    "        \n",
    "    def set_buddy(self, buddy: BuddyOne):\n",
    "        self._buddy = buddy\n",
    "        \n",
    "    def action_two(self, arg):\n",
    "        print(f\"BuddyTwo::action_two with {arg}\")\n",
    "        self._buddy.react_one(arg)\n",
    "        \n",
    "    def react_two(self, arg):\n",
    "        print(f\"BuddyTwo::react_two with {arg}\")"
   ]
  },
  {
   "cell_type": "code",
   "execution_count": 5,
   "metadata": {},
   "outputs": [
    {
     "name": "stdout",
     "output_type": "stream",
     "text": [
      "BuddyOne::action_one with hello\n",
      "BuddyTwo::react_two with hello\n",
      "BuddyTwo::action_two with world\n",
      "BuddyOne::react_one with world\n"
     ]
    }
   ],
   "source": [
    "b1 = BuddyOne()\n",
    "b2 = BuddyTwo()\n",
    "b1.set_buddy(b2)\n",
    "b2.set_buddy(b1)\n",
    "\n",
    "b1.action_one(\"hello\")\n",
    "b2.action_two(\"world\")"
   ]
  },
  {
   "cell_type": "markdown",
   "metadata": {},
   "source": [
    "## Solution\n",
    "First slap a new interface on top of the tightly coupled components. This interface should have methods to get the registered `Mediator` and get/set the component's state. Now wherever one component was calling the other, replace that part of the code so that it gets the `Mediator` from its parent and calls the `mediate` method on it passing itself so that the mediator can identify the caller.\n",
    "\n",
    "The concrete implementation of the `Mediator` will know the interaction between the components. Of course the concrete mediator can quickly get out of hand."
   ]
  },
  {
   "cell_type": "code",
   "execution_count": 8,
   "metadata": {},
   "outputs": [],
   "source": [
    "from abc import ABC, abstractmethod\n",
    "\n",
    "class Mediator(ABC):\n",
    "    @abstractmethod\n",
    "    def mediate(self, buddy: \"Buddy\"):\n",
    "        pass\n",
    "    \n",
    "class Buddy(ABC):\n",
    "    def __init__(self, mediator: Mediator):\n",
    "        self._mediator: \"Mediator\" = mediator\n",
    "            \n",
    "    @property\n",
    "    def mediator(self):\n",
    "        return self._mediator\n",
    "    \n",
    "    @property\n",
    "    @abstractmethod\n",
    "    def state(self):\n",
    "        pass\n",
    "    \n",
    "    @state.setter\n",
    "    @abstractmethod\n",
    "    def state(self, arg):\n",
    "        pass\n",
    "\n",
    "\n",
    "class BuddyOne(Buddy):\n",
    "    def __init__(self, mediator: \"Mediator\"):\n",
    "        super().__init__(mediator)\n",
    "        self._state = None\n",
    "        \n",
    "    @property\n",
    "    def state(self):\n",
    "        return self._state\n",
    "    \n",
    "    @state.setter\n",
    "    def state(self, arg):\n",
    "        self._state = arg\n",
    "        \n",
    "    def action_one(self, arg):\n",
    "        print(f\"BuddyOne::action_one with {arg}\")\n",
    "        self.state = arg\n",
    "        self.mediator.mediate(self)\n",
    "        \n",
    "    def react_one(self, arg):\n",
    "        print(f\"BuddyOne::react_one with {arg}\")\n",
    "        \n",
    "        \n",
    "class BuddyTwo(Buddy):\n",
    "    def __init__(self, mediator: \"Mediator\"):\n",
    "        super().__init__(mediator)\n",
    "        self._state = None\n",
    "        \n",
    "    @property\n",
    "    def state(self):\n",
    "        return self._state\n",
    "    \n",
    "    @state.setter\n",
    "    def state(self, arg):\n",
    "        self._state = arg\n",
    "        \n",
    "    def action_two(self, arg):\n",
    "        print(f\"BuddyTwo::action_two with {arg}\")\n",
    "        self.state = arg\n",
    "        self.mediator.mediate(self)\n",
    "        \n",
    "    def react_two(self, arg):\n",
    "        print(f\"BuddyTwo::react_two with {arg}\")\n",
    "    \n",
    "    \n",
    "class ConcreteMediator(Mediator):\n",
    "    def __init__(self):\n",
    "        self._buddy1 = None\n",
    "        self._buddy2 = None\n",
    "        \n",
    "    def set_buddies(self, b1, b2):\n",
    "        self._buddy1 = b1\n",
    "        self._buddy2 = b2\n",
    "        \n",
    "    def mediate(self, buddy: Buddy):\n",
    "        arg = buddy.state\n",
    "        if buddy == self._buddy1:\n",
    "            self._buddy2.react_two(arg)\n",
    "        elif buddy == self._buddy2:\n",
    "            self._buddy1.react_one(arg)"
   ]
  },
  {
   "cell_type": "code",
   "execution_count": 10,
   "metadata": {},
   "outputs": [
    {
     "name": "stdout",
     "output_type": "stream",
     "text": [
      "BuddyOne::action_one with hello\n",
      "BuddyTwo::react_two with hello\n",
      "BuddyTwo::action_two with world\n",
      "BuddyOne::react_one with world\n"
     ]
    }
   ],
   "source": [
    "mediator = ConcreteMediator()\n",
    "b1 = BuddyOne(mediator)\n",
    "b2 = BuddyTwo(mediator)\n",
    "mediator.set_buddies(b1, b2)\n",
    "\n",
    "b1.action_one(\"hello\")\n",
    "b2.action_two(\"world\")"
   ]
  },
  {
   "cell_type": "code",
   "execution_count": null,
   "metadata": {},
   "outputs": [],
   "source": []
  }
 ],
 "metadata": {
  "kernelspec": {
   "display_name": "Python 3",
   "language": "python",
   "name": "python3"
  },
  "language_info": {
   "codemirror_mode": {
    "name": "ipython",
    "version": 3
   },
   "file_extension": ".py",
   "mimetype": "text/x-python",
   "name": "python",
   "nbconvert_exporter": "python",
   "pygments_lexer": "ipython3",
   "version": "3.7.3"
  }
 },
 "nbformat": 4,
 "nbformat_minor": 2
}
