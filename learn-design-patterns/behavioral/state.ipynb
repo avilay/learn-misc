{
 "cells": [
  {
   "cell_type": "markdown",
   "metadata": {},
   "source": [
    "# State\n",
    "> Allow an object to alter its behavior when its internal state changes. The object will appear to change states."
   ]
  },
  {
   "cell_type": "markdown",
   "metadata": {},
   "source": [
    "## Problem\n",
    "Consider an MDP with two states $s_1$, $s_2$. The agent can take one of two actions $a_1$ and $a_2$. But this system is subject to the following constraints:\n",
    "\n",
    "When in state $s_1$, if the agent takes action $a_1$ it will most likely go to state $s_2$ but there is a small chance that it will remain where it is.\n",
    "$$\n",
    "P(s_1 \\vert s_1, a_1) = 0.3 \\\\\n",
    "P(s_2 \\vert s_1, a_1) = 0.7 \\\\\n",
    "$$\n",
    "\n",
    "But if it takes action $a_2$ it will most likely remain where it is but there is a small chance that it will go to $s_2$.\n",
    "$$\n",
    "P(s_1 \\vert s_1, a_2) = 0.7 \\\\\n",
    "P(s_2 \\vert s_1, a_2) = 0.3 \\\\\n",
    "$$\n",
    "\n",
    "When in state $s2$ if the agent takes action $a_1$ it will most likely remain where it is but there is a small chance it will go to state $s_1$.\n",
    "$$\n",
    "P(s_1 \\vert s_2, a_1) = 0.1 \\\\\n",
    "P(s_2 \\vert s_2, a_1) = 0.9 \\\\\n",
    "$$\n",
    "\n",
    "And when it takes action $a_2$ there is equal chance that it will remain where it is or go to state $s_1$.\n",
    "$$\n",
    "P(s_1 \\vert s_2, a_2) = 0.5 \\\\\n",
    "P(s_2 \\vert s_2, a_2) = 0.5 \\\\\n",
    "$$\n",
    "\n",
    "The code below is pretty messy. And if I decide to add a new state with its own transition probabilities, it gets even messier. How do I simplify the `MDP` class without having too many conditionals?"
   ]
  },
  {
   "cell_type": "code",
   "execution_count": 29,
   "metadata": {},
   "outputs": [],
   "source": [
    "from enum import Enum, auto\n",
    "\n",
    "class State(Enum):\n",
    "    S1 = auto()\n",
    "    S2 = auto()\n",
    "\n",
    "class Action(Enum):\n",
    "    A1 = auto()\n",
    "    A2 = auto()\n",
    "    \n",
    "class MDP:\n",
    "    def __init__(self):\n",
    "        self._state = random.choices([State.S1, State.S2], [0.5, 0.5])[0]\n",
    "    \n",
    "    def act(self, action):\n",
    "        old_state = self._state\n",
    "        if self._state == State.S1:\n",
    "            if action == Action.A1:\n",
    "                self._state = random.choices([State.S1, State.S2], [0.3, 0.7])[0]\n",
    "            elif action == Action.A2:\n",
    "                self._state = random.choices([State.S1, State.S2], [0.7, 0.3])[0]\n",
    "        elif self._state == State.S2:\n",
    "            if action == Action.A1:\n",
    "                self._state = random.choices([State.S1, State.S2], [0.1, 0.9])[0]\n",
    "            elif action == Action.A2:\n",
    "                self._state = random.choices([State.S1, State.S2], [0.5, 0.5])[0]\n",
    "        print(f\"{action}: {old_state} -> {self._state}\")"
   ]
  },
  {
   "cell_type": "code",
   "execution_count": 30,
   "metadata": {},
   "outputs": [
    {
     "name": "stdout",
     "output_type": "stream",
     "text": [
      "Action.A1: State.S1 -> State.S1\n",
      "Action.A2: State.S1 -> State.S1\n"
     ]
    }
   ],
   "source": [
    "mdp = MDP()\n",
    "mdp.act(Action.A1)\n",
    "mdp.act(Action.A2)"
   ]
  },
  {
   "cell_type": "markdown",
   "metadata": {},
   "source": [
    "## Solution\n",
    "Create a separate `State` object for each of the two states that will implement its own transition probabilties. And it is a good idea to create an abstract state interface so any new states can implement that."
   ]
  },
  {
   "cell_type": "code",
   "execution_count": 34,
   "metadata": {},
   "outputs": [
    {
     "name": "stdout",
     "output_type": "stream",
     "text": [
      "Once deleted, variables cannot be recovered. Proceed (y/[n])? y\n"
     ]
    }
   ],
   "source": [
    "%reset"
   ]
  },
  {
   "cell_type": "code",
   "execution_count": 47,
   "metadata": {},
   "outputs": [],
   "source": [
    "from abc import ABC, abstractmethod\n",
    "from enum import Enum, auto\n",
    "import random\n",
    "\n",
    "class Action(Enum):\n",
    "    A1 = auto()\n",
    "    A2 = auto()\n",
    "    \n",
    "class State(ABC):\n",
    "    @abstractmethod\n",
    "    def transition(self, action: Action) -> \"State\":\n",
    "        pass\n",
    "\n",
    "class S1(State):\n",
    "    def __repr__(self):\n",
    "        return \"S1\"\n",
    "    \n",
    "    def transition(self, action: Action) -> State:\n",
    "        possible_states = [self, S2()]\n",
    "        if action == Action.A1:\n",
    "            return random.choices(possible_states, [0.3, 0.7])[0]\n",
    "        elif action == Action.A2:\n",
    "            return random.choices(possible_states, [0.7, 0.3])[0]\n",
    "        \n",
    "class S2(State):\n",
    "    def __repr__(self):\n",
    "        return \"S2\"\n",
    "    \n",
    "    def transition(self, action: Action) -> State:\n",
    "        possible_states = [S1(), self]\n",
    "        if action == Action.A1:\n",
    "            return random.choices(possible_states, [0.1, 0.9])[0]\n",
    "        elif action == Action.A2:\n",
    "            return random.choices(possible_states, [0.5, 0.5])[0]\n",
    "            \n",
    "class MDP:\n",
    "    def __init__(self):\n",
    "        self._state = random.choices([S1(), S2()], [0.5, 0.5])[0]\n",
    "    \n",
    "    def act(self, action):\n",
    "        old_state = self._state\n",
    "        self._state = self._state.transition(action)\n",
    "        print(f\"{action}: {old_state} -> {self._state}\")"
   ]
  },
  {
   "cell_type": "code",
   "execution_count": 48,
   "metadata": {},
   "outputs": [
    {
     "name": "stdout",
     "output_type": "stream",
     "text": [
      "Action.A1: S1 -> S2\n",
      "Action.A2: S2 -> S2\n"
     ]
    }
   ],
   "source": [
    "mdp = MDP()\n",
    "mdp.act(Action.A1)\n",
    "mdp.act(Action.A2)"
   ]
  },
  {
   "cell_type": "code",
   "execution_count": null,
   "metadata": {},
   "outputs": [],
   "source": []
  }
 ],
 "metadata": {
  "kernelspec": {
   "display_name": "Python 3",
   "language": "python",
   "name": "python3"
  },
  "language_info": {
   "codemirror_mode": {
    "name": "ipython",
    "version": 3
   },
   "file_extension": ".py",
   "mimetype": "text/x-python",
   "name": "python",
   "nbconvert_exporter": "python",
   "pygments_lexer": "ipython3",
   "version": "3.7.3"
  }
 },
 "nbformat": 4,
 "nbformat_minor": 2
}
