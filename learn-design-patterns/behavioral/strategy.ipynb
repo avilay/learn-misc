{
 "cells": [
  {
   "cell_type": "markdown",
   "metadata": {},
   "source": [
    "# Strategy\n",
    "> Define a family of algorithms, encapsulate each one, and make them interchangeable. Strategy lets the algorithm vary independently from clients that use it."
   ]
  },
  {
   "cell_type": "markdown",
   "metadata": {},
   "source": [
    "## Problem\n",
    "Lets say I have an ML classifier that does a bunch of stuff for training, like forward prop, back prop, optimizing the gradients, etc. After each epoch, it outputs the accuracy of the model. Now if I want to reuse this classifier but have it output precision instead, how do I do it?"
   ]
  },
  {
   "cell_type": "code",
   "execution_count": 31,
   "metadata": {},
   "outputs": [],
   "source": [
    "import numpy \n",
    "\n",
    "class Accuracy:\n",
    "    def calc(self, y_hat,  y):\n",
    "        return np.sum(y_hat == y)\n",
    "\n",
    "class Classifier:\n",
    "    def __init__(self):\n",
    "        self.acc_metric = Accuracy()\n",
    "        \n",
    "    def fit(self):\n",
    "        # I am doing a lot of stuff here\n",
    "        # Forward prop on mini-batches\n",
    "        # Back prop and optimize\n",
    "        # After completing one batch\n",
    "        y_hat = np.array([1, 1, 1, 1], np.float)\n",
    "        y = np.array([1, 0, 0, 1], np.float)\n",
    "        acc = self.acc_metric.calc(y_hat, y)\n",
    "        print(f\"Accuracy is {acc:.2f}\")"
   ]
  },
  {
   "cell_type": "code",
   "execution_count": 32,
   "metadata": {},
   "outputs": [
    {
     "name": "stdout",
     "output_type": "stream",
     "text": [
      "Accuracy is 2.00\n"
     ]
    }
   ],
   "source": [
    "classifer = Classifier()\n",
    "trainer.fit()"
   ]
  },
  {
   "cell_type": "markdown",
   "metadata": {},
   "source": [
    "## Solution"
   ]
  },
  {
   "cell_type": "markdown",
   "metadata": {},
   "source": [
    "### OO Solution\n",
    "Because the metrics calculation is part of a larger task that the classifier does, I don't want to reimplement the classifier for each new type of metric I want to output. In this case the metric calculating strategy can be outsourced to another class. The client calling the classifier decides which metrics calculator to use. And the metric type does not signficantly alter the functionality of the classifier."
   ]
  },
  {
   "cell_type": "code",
   "execution_count": 40,
   "metadata": {},
   "outputs": [],
   "source": [
    "from abc import ABC, abstractmethod\n",
    "\n",
    "class Metric(ABC):\n",
    "    @abstractmethod\n",
    "    def calc(self,  y_hat, y):\n",
    "        pass\n",
    "    \n",
    "class Accuracy(Metric):\n",
    "    def name(self):\n",
    "        return \"Accuracy\"\n",
    "    \n",
    "    def calc(self, y_hat, y):\n",
    "        return np.sum(y_hat == y)\n",
    "    \n",
    "class Precision(Metric):\n",
    "    def name(self):\n",
    "        return \"Precision\"\n",
    "    \n",
    "    def calc(self, y_hat, y):\n",
    "        return np.sum((y_hat == 1) & (y == 1)) / np.sum(y_hat == 1)\n",
    "            \n",
    "class Recall(Metric):\n",
    "    def name(self):\n",
    "        return \"Recall\"\n",
    "    \n",
    "    def calc(self, y_hat, y):\n",
    "        return np.sum((y_hat == 1) & (y == 1)) / np.sum(y == 1)\n",
    "    \n",
    "class Classifier:\n",
    "    def __init__(self, metric):\n",
    "        self.metric = metric\n",
    "        \n",
    "    def fit(self):\n",
    "        # I am doing a lot of stuff here\n",
    "        # Forward prop on mini-batches\n",
    "        # Back prop and optimize\n",
    "        # After completing one batch\n",
    "        y = np.array([0, 0, 0, 0, 0, 1, 1, 1, 1, 1])\n",
    "        y_hat = np.array([0, 0, 0, 1, 1, 1, 1, 1, 1, 1])\n",
    "        val = self.metric.calc(y_hat, y)\n",
    "        print(f\"{self.metric.name()} is {val:.2f}\")"
   ]
  },
  {
   "cell_type": "code",
   "execution_count": 41,
   "metadata": {},
   "outputs": [
    {
     "name": "stdout",
     "output_type": "stream",
     "text": [
      "Precision is 0.71\n"
     ]
    }
   ],
   "source": [
    "classifier = Classifier(Precision())\n",
    "classifier.fit()"
   ]
  },
  {
   "cell_type": "markdown",
   "metadata": {},
   "source": [
    "### Pythonic Solution\n",
    "Instead of creating a `Metric`s class heirarchy, I can simply pass the appropriate metrics function to the classifier."
   ]
  },
  {
   "cell_type": "code",
   "execution_count": 48,
   "metadata": {},
   "outputs": [],
   "source": [
    "def accuracy(y_hat, y):\n",
    "    return np.sum(y_hat == y)\n",
    "\n",
    "def precision(y_hat, y):\n",
    "    return np.sum((y_hat == 1) & (y == 1)) / np.sum(y_hat == 1)\n",
    "\n",
    "def recall(y_hat, y):\n",
    "    return np.sum((y_hat == 1) & (y == 1)) / np.sum(y == 1)\n",
    "\n",
    "class Classifier:\n",
    "    def __init__(self, metric):\n",
    "        self.metric = metric\n",
    "        \n",
    "    def fit(self):\n",
    "        # I am doing a lot of stuff here\n",
    "        # Forward prop on mini-batches\n",
    "        # Back prop and optimize\n",
    "        # After completing one batch\n",
    "        y = np.array([0, 0, 0, 0, 0, 1, 1, 1, 1, 1])\n",
    "        y_hat = np.array([0, 0, 0, 1, 1, 1, 1, 1, 1, 1])\n",
    "        val = self.metric(y_hat, y)\n",
    "        print(f\"Generic metric value is {val:.2f}\")"
   ]
  },
  {
   "cell_type": "code",
   "execution_count": 49,
   "metadata": {},
   "outputs": [
    {
     "name": "stdout",
     "output_type": "stream",
     "text": [
      "Generic metric value is 1.00\n"
     ]
    }
   ],
   "source": [
    "classifier = Classifier(recall)\n",
    "classifier.fit()"
   ]
  },
  {
   "cell_type": "code",
   "execution_count": null,
   "metadata": {},
   "outputs": [],
   "source": []
  }
 ],
 "metadata": {
  "kernelspec": {
   "display_name": "Python 3",
   "language": "python",
   "name": "python3"
  },
  "language_info": {
   "codemirror_mode": {
    "name": "ipython",
    "version": 3
   },
   "file_extension": ".py",
   "mimetype": "text/x-python",
   "name": "python",
   "nbconvert_exporter": "python",
   "pygments_lexer": "ipython3",
   "version": "3.8.8"
  }
 },
 "nbformat": 4,
 "nbformat_minor": 2
}
