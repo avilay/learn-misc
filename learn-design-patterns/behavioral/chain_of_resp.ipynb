{
 "cells": [
  {
   "cell_type": "markdown",
   "metadata": {},
   "source": [
    "# Chain of Responsibility\n",
    ">Avoid couping the sender of a request to its receiver by giving more than one object a chance to handle the request. Chain the receiving objects and pass the request along the chain until an object handles it.\n",
    "\n",
    "Sender does not know which object should receive its message beforehand."
   ]
  },
  {
   "cell_type": "markdown",
   "metadata": {},
   "source": [
    "## Problem\n",
    "In the code below `Sender` already knows at coding time that it will be calling `ReceiverOne` inside its `do` method. What if the `Sender` has no way of knowing this ahead of time. In fact even at runtime it does not know which `Receiver` is the right receiver to call? Only the receivers know whether they can fulfill the request that `Sender` is sending them."
   ]
  },
  {
   "cell_type": "code",
   "execution_count": 5,
   "metadata": {},
   "outputs": [],
   "source": [
    "class ReceiverOne:\n",
    "    def action_one(self, arg):\n",
    "        print(f\"ReceiverOne::action {arg}\")\n",
    "        \n",
    "\n",
    "class ReceiverTwo:\n",
    "    def action_two(self, arg):\n",
    "        print(f\"ReceiverTwo::action {arg}\")\n",
    "        \n",
    "        \n",
    "class Sender:\n",
    "    def __init__(self, recvr: ReceiverOne):\n",
    "        self.recvr: ReceiverOne = recvr\n",
    "    \n",
    "    def do(self, arg):\n",
    "        print(f\"Sending with {arg}\")\n",
    "        self.recvr.action_one(arg)"
   ]
  },
  {
   "cell_type": "code",
   "execution_count": 6,
   "metadata": {},
   "outputs": [
    {
     "name": "stdout",
     "output_type": "stream",
     "text": [
      "Sending with hello\n",
      "ReceiverOne::action hello\n"
     ]
    }
   ],
   "source": [
    "recvr1 = ReceiverOne()\n",
    "sender = Sender(recvr1)\n",
    "sender.do(\"hello\")"
   ]
  },
  {
   "cell_type": "markdown",
   "metadata": {},
   "source": [
    "## Solution\n",
    "Define a `Handler` interface for handling requests. This interface should also give the next handler in the chain. All receiver classes must now implement this `Handler` interface. The `Sender` is given the first handler in the chain and that is the only one it hands off the request to. It does not know which handler this is."
   ]
  },
  {
   "cell_type": "code",
   "execution_count": 20,
   "metadata": {},
   "outputs": [],
   "source": [
    "from abc import ABC, abstractmethod\n",
    "\n",
    "class Handler(ABC):\n",
    "    def __init__(self, successor: \"Handler\"):\n",
    "        self._successor: Handler = successor\n",
    "        \n",
    "    @abstractmethod\n",
    "    def handle(self, arg):\n",
    "        pass\n",
    "    \n",
    "    @property\n",
    "    def successor(self):\n",
    "        return self._successor\n",
    "    \n",
    "\n",
    "class ReceiverOne(Handler):\n",
    "    def __init__(self, successor: Handler):\n",
    "        super().__init__(successor)\n",
    "        \n",
    "    def handle(self, arg):\n",
    "        if arg == \"hello\":\n",
    "            self.action_one(arg)\n",
    "        elif self.successor:\n",
    "            self.successor.handle(arg)\n",
    "        else:\n",
    "            raise RuntimeError(\"Could not find the right receiver!\")\n",
    "\n",
    "    def action_one(self, arg):\n",
    "        print(f\"ReceiverOne::action {arg}\")\n",
    "        \n",
    "\n",
    "class ReceiverTwo(Handler):\n",
    "    def __init__(self, successor: Handler):\n",
    "        super().__init__(successor)\n",
    "        \n",
    "    def handle(self, arg):\n",
    "        if arg == \"world\":\n",
    "            self.action_two(arg)\n",
    "        elif self.successor:\n",
    "            self.successor.handle(arg)\n",
    "        else:\n",
    "            raise RuntimeError(\"Could not find the right receiver!\")\n",
    "            \n",
    "    def action_two(self, arg):\n",
    "        print(f\"ReceiverTwo::action {arg}\")\n",
    "        \n",
    "        \n",
    "class Sender:\n",
    "    def __init__(self, handler):\n",
    "        self.handler = handler\n",
    "    \n",
    "    def do(self, arg):\n",
    "        print(f\"Sending with {arg}\")\n",
    "        self.handler.handle(arg)"
   ]
  },
  {
   "cell_type": "code",
   "execution_count": 22,
   "metadata": {},
   "outputs": [
    {
     "name": "stdout",
     "output_type": "stream",
     "text": [
      "Sending with hello\n",
      "ReceiverOne::action hello\n",
      "Sending with world\n",
      "ReceiverTwo::action world\n"
     ]
    }
   ],
   "source": [
    "handler = ReceiverOne(ReceiverTwo(None))\n",
    "sender = Sender(handler)\n",
    "sender.do(\"hello\")\n",
    "sender.do(\"world\")"
   ]
  },
  {
   "cell_type": "code",
   "execution_count": null,
   "metadata": {},
   "outputs": [],
   "source": []
  }
 ],
 "metadata": {
  "kernelspec": {
   "display_name": "Python 3",
   "language": "python",
   "name": "python3"
  },
  "language_info": {
   "codemirror_mode": {
    "name": "ipython",
    "version": 3
   },
   "file_extension": ".py",
   "mimetype": "text/x-python",
   "name": "python",
   "nbconvert_exporter": "python",
   "pygments_lexer": "ipython3",
   "version": "3.9.1"
  }
 },
 "nbformat": 4,
 "nbformat_minor": 2
}
