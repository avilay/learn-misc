{
 "cells": [
  {
   "cell_type": "markdown",
   "metadata": {},
   "source": [
    "# Memento\n",
    "> Without violating encapsuation, capture and externalize an object's internal state so that the object can be restored to this state later."
   ]
  },
  {
   "cell_type": "markdown",
   "metadata": {},
   "source": [
    "# Problem\n",
    "Lets say I have an \"expensive\" object, i.e., an object that took a lot of time/effort to get to its current state. Examples of such objects are the current state of a game, an ML model that is far into its training, etc. How can I save its current state and destroy the current object and restore its saved state again? E.g., saving and restoring checkpoints in a game.\n",
    "\n",
    "In the code below the way the game is saved and restored is really bad because now the `gameplay` module knows about the internal state of the game. How can I acheive this functionality but without breaking encapsulation of `MyCoolGame`?"
   ]
  },
  {
   "cell_type": "code",
   "execution_count": 6,
   "metadata": {},
   "outputs": [],
   "source": [
    "import random\n",
    "\n",
    "class MyCoolGame:\n",
    "    def __init__(self):\n",
    "        self._state = 0\n",
    "        \n",
    "    def play(self):\n",
    "        # After much time and effort\n",
    "        print(f\"Starting state {self._state}\")\n",
    "        self._state += random.randint(10, 1000)\n",
    "        print(f\"Ending state {self._state}\")\n",
    "        \n",
    "def gameplay():\n",
    "    game1 = MyCoolGame()\n",
    "    game1.play()\n",
    "    game1.play()\n",
    "    game_state = game1._state\n",
    "    # save the game state on disk\n",
    "    \n",
    "    game2 = MyCoolGame()\n",
    "    game2._state = game_state\n",
    "    game2.play()"
   ]
  },
  {
   "cell_type": "code",
   "execution_count": 8,
   "metadata": {},
   "outputs": [
    {
     "name": "stdout",
     "output_type": "stream",
     "text": [
      "Starting state 0\n",
      "Ending state 997\n",
      "Starting state 997\n",
      "Ending state 1713\n",
      "Starting state 1713\n",
      "Ending state 1744\n"
     ]
    }
   ],
   "source": [
    "gameplay()"
   ]
  },
  {
   "cell_type": "markdown",
   "metadata": {},
   "source": [
    "## Solution\n",
    "At its simplest implement `save` and `restore` methods in the `MyCoolGame` class. The client calling these methods is given an opaque binary checkpoint object that it can give an new instance of the game to restore."
   ]
  },
  {
   "cell_type": "code",
   "execution_count": 9,
   "metadata": {},
   "outputs": [
    {
     "name": "stdout",
     "output_type": "stream",
     "text": [
      "Starting state 0\n",
      "Ending state 398\n",
      "Starting state 398\n",
      "Ending state 424\n",
      "Starting state 158\n",
      "Ending state 1053\n"
     ]
    }
   ],
   "source": [
    "class Checkpoint:\n",
    "    def __init__(self):\n",
    "        self.state = None\n",
    "        self.filename = None\n",
    "        \n",
    "    @classmethod\n",
    "    def dump(cls, game, filename):\n",
    "        obj = cls()\n",
    "        obj.state = game._state\n",
    "        # Persist the game state in the filename\n",
    "        obj.filename = filename\n",
    "        return obj\n",
    "    \n",
    "    @classmethod\n",
    "    def load(cls, game, filename):\n",
    "        obj = cls()\n",
    "        # Load the state from the filename\n",
    "        state = random.randint(10, 1000)\n",
    "        obj.state = state\n",
    "        obj.filename = filename\n",
    "        game._state = state\n",
    "    \n",
    "class MyCoolGame:\n",
    "    def __init__(self):\n",
    "        self._state = 0\n",
    "        \n",
    "    def play(self):\n",
    "        # After much time and effort\n",
    "        print(f\"Starting state {self._state}\")\n",
    "        self._state += random.randint(10, 1000)\n",
    "        print(f\"Ending state {self._state}\")\n",
    "        \n",
    "    def checkpoint(self):\n",
    "        # Generate a filename\n",
    "        filename = \"path/to/checkpoint\"\n",
    "        ckpt = Checkpoint.dump(self, filename)\n",
    "        return filename\n",
    "    \n",
    "    def restore(self, filename):\n",
    "        Checkpoint.load(self, filename)\n",
    "\n",
    "def gameplay():\n",
    "    game1 = MyCoolGame()\n",
    "    game1.play()\n",
    "    game1.play()\n",
    "    fn = game1.checkpoint()\n",
    "    # Save the filename somewhere\n",
    "    \n",
    "    game2 = MyCoolGame()\n",
    "    game2.restore(fn)\n",
    "    game2.play()\n",
    "    \n",
    "gameplay()"
   ]
  },
  {
   "cell_type": "code",
   "execution_count": null,
   "metadata": {},
   "outputs": [],
   "source": []
  }
 ],
 "metadata": {
  "kernelspec": {
   "display_name": "Python 3",
   "language": "python",
   "name": "python3"
  },
  "language_info": {
   "codemirror_mode": {
    "name": "ipython",
    "version": 3
   },
   "file_extension": ".py",
   "mimetype": "text/x-python",
   "name": "python",
   "nbconvert_exporter": "python",
   "pygments_lexer": "ipython3",
   "version": "3.7.3"
  }
 },
 "nbformat": 4,
 "nbformat_minor": 2
}
