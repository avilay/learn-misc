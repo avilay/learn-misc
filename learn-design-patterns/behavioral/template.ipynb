{
 "cells": [
  {
   "cell_type": "markdown",
   "metadata": {},
   "source": [
    "# Template\n",
    "> Define the skeleton of an algorithm in an operation, deferring some steps to subclasses. Template method lets subclasses redefine certain steps of an algorithm without changing the algorithm's structure.\n",
    "\n",
    "Keep the basic code same, outsource the varying parts."
   ]
  },
  {
   "cell_type": "markdown",
   "metadata": {},
   "source": [
    "## Problem\n",
    "Consider an ML problem setting. Lets say I have a metrics aggregator that finds the arithmetic mean of the accuracy over the last 5 mini batches."
   ]
  },
  {
   "cell_type": "code",
   "execution_count": 7,
   "metadata": {},
   "outputs": [],
   "source": [
    "class AccuracyAgg:\n",
    "    def sample(self, metrics):\n",
    "        means = []\n",
    "        for step in range(0, len(metrics), 5): \n",
    "            grp = metrics[step:step+5]\n",
    "            mean = sum(grp) / len(grp)\n",
    "            means.append(mean)\n",
    "        return means"
   ]
  },
  {
   "cell_type": "code",
   "execution_count": 8,
   "metadata": {},
   "outputs": [
    {
     "data": {
      "text/plain": [
       "[10.4, 7.6]"
      ]
     },
     "execution_count": 8,
     "metadata": {},
     "output_type": "execute_result"
    }
   ],
   "source": [
    "acc = AccuracyAgg()\n",
    "acc.sample([10, 11, 4, 8, 19, 9, 7, 12, 4, 6])"
   ]
  },
  {
   "cell_type": "markdown",
   "metadata": {},
   "source": [
    "Now, lets say that I need to find the harmonic mean of the precision and recall every 3 mini batches. I could of course write another aggregator class. But that would not scale well with different types of metrics, aggregation logic, and mini batches."
   ]
  },
  {
   "cell_type": "markdown",
   "metadata": {},
   "source": [
    "## Solution"
   ]
  },
  {
   "cell_type": "markdown",
   "metadata": {},
   "source": [
    "### OO Solution\n",
    "The basic template of the logic is common - I need to group the metrics together over some number of mini batches, and then apply some aggregation function to each member of this group. I can keep this template in a common `MetricsAggregator` class and have the actual grouping and aggregating functionality live in different subclasses. This way I can keep reusing the common code in a lot of different settings."
   ]
  },
  {
   "cell_type": "code",
   "execution_count": 10,
   "metadata": {},
   "outputs": [],
   "source": [
    "from abc import ABC, abstractmethod\n",
    "\n",
    "class MetricsAgg(ABC):\n",
    "    @abstractmethod\n",
    "    def group(self, metrics):\n",
    "        pass\n",
    "    \n",
    "    @abstractmethod\n",
    "    def aggregate(self, group):\n",
    "        pass\n",
    "    \n",
    "    def sample(self, metrics):\n",
    "        aggs = []\n",
    "        for grp in self.group(metrics):\n",
    "            agg = self.aggregate(grp)\n",
    "            aggs.append(agg)\n",
    "        return aggs\n",
    "    \n",
    "    \n",
    "class AccuracyAgg(MetricsAgg):\n",
    "    def group(self, metrics):\n",
    "        for step in range(0, len(metrics), 5):\n",
    "            yield metrics[step:step+5]\n",
    "            \n",
    "    def aggregate(self, group):\n",
    "        return sum(group) / len(group)"
   ]
  },
  {
   "cell_type": "code",
   "execution_count": 11,
   "metadata": {},
   "outputs": [
    {
     "data": {
      "text/plain": [
       "[10.4, 7.6]"
      ]
     },
     "execution_count": 11,
     "metadata": {},
     "output_type": "execute_result"
    }
   ],
   "source": [
    "acc = AccuracyAgg()\n",
    "acc.sample([10, 11, 4, 8, 19, 9, 7, 12, 4, 6])"
   ]
  },
  {
   "cell_type": "markdown",
   "metadata": {},
   "source": [
    "### Pythonic Solution\n",
    "Instead of creating abstract methods that are implemented in sub-classes, I can simply pass in two functions to the `sample` method for grouping and aggregating the metrics."
   ]
  },
  {
   "cell_type": "code",
   "execution_count": 12,
   "metadata": {},
   "outputs": [],
   "source": [
    "class MetricsAgg:\n",
    "    def __init__(self, grouper, aggregator):\n",
    "        self.grouper = grouper\n",
    "        self.aggregator = aggregator\n",
    "        \n",
    "    def sample(self, metrics):\n",
    "        aggs = []\n",
    "        for grp in self.grouper(metrics):\n",
    "            agg = self.aggregator(grp)\n",
    "            aggs.append(agg)\n",
    "        return aggs"
   ]
  },
  {
   "cell_type": "code",
   "execution_count": 13,
   "metadata": {},
   "outputs": [
    {
     "data": {
      "text/plain": [
       "[10.4, 7.6]"
      ]
     },
     "execution_count": 13,
     "metadata": {},
     "output_type": "execute_result"
    }
   ],
   "source": [
    "def take5(metrics):\n",
    "    for step in range(0, len(metrics), 5):\n",
    "        yield metrics[step:step+5]\n",
    "\n",
    "def mean(group):\n",
    "    return sum(group) / len(group)\n",
    "\n",
    "acc = MetricsAgg(take5, mean)\n",
    "acc.sample([10, 11, 4, 8, 19, 9, 7, 12, 4, 6])"
   ]
  }
 ],
 "metadata": {
  "kernelspec": {
   "display_name": "Python 3",
   "language": "python",
   "name": "python3"
  },
  "language_info": {
   "codemirror_mode": {
    "name": "ipython",
    "version": 3
   },
   "file_extension": ".py",
   "mimetype": "text/x-python",
   "name": "python",
   "nbconvert_exporter": "python",
   "pygments_lexer": "ipython3",
   "version": "3.7.3"
  }
 },
 "nbformat": 4,
 "nbformat_minor": 2
}
